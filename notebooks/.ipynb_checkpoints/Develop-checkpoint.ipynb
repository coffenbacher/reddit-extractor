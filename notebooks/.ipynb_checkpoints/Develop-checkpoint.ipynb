{
 "cells": [
  {
   "cell_type": "code",
   "execution_count": 1,
   "metadata": {
    "collapsed": false,
    "scrolled": true
   },
   "outputs": [],
   "source": [
    "# {\n",
    "#     'id': s.id,\n",
    "#     'author': s.author.name,\n",
    "#     'created_utc': s.created_utc,\n",
    "#     'link_flair_text': s.link_flair_text,\n",
    "#     'author_flair_text': s.author_flair_text,\n",
    "#     'num_comments': s.num_comments,\n",
    "#     'score': s.score,\n",
    "#     'ups': s.ups,\n",
    "#     'downs': s.downs,\n",
    "#     'selftext': s.selftext,\n",
    "#     'title': s.title,\n",
    "#     'gilded': s.gilded,\n",
    "#     'subreddit': s.subreddit.name,\n",
    "#     'name': s.name\n",
    "# }"
   ]
  },
  {
   "cell_type": "code",
   "execution_count": null,
   "metadata": {
    "collapsed": false
   },
   "outputs": [],
   "source": [
    "# {\n",
    "#     'id': c.id,\n",
    "#     'author': c.author.name,\n",
    "#     'created_utc': c.created_utc,\n",
    "#     'link_id': c.link_id,\n",
    "#     'link_flair_text': c.submission.link_flair_text,\n",
    "#     'author_flair_text': c.author_flair_text,\n",
    "#     'score': c.score,\n",
    "#     'ups': c.ups,\n",
    "#     'downs': c.downs,\n",
    "#     'body': c.body,\n",
    "#     'gilded': c.gilded,\n",
    "#     'subreddit': c.subreddit.name,\n",
    "#     'name': c.name\n",
    "# }\n"
   ]
  },
  {
   "cell_type": "code",
   "execution_count": 5,
   "metadata": {
    "collapsed": false
   },
   "outputs": [
    {
     "name": "stderr",
     "output_type": "stream",
     "text": [
      "INFO:root:Running search for range 09/21/10->09/22/10\n",
      "INFO:requests.packages.urllib3.connectionpool:Starting new HTTPS connection (1): api.reddit.com\n",
      "INFO:root:Inserting submission dh6e5\n",
      "INFO:root:Getting comments for submission dh6e5\n",
      "INFO:root:Inserting 2 comments\n",
      "INFO:googleapiclient.discovery:URL being requested: POST https://www.googleapis.com/bigquery/v2/projects/stable-balancer-95721/datasets/reddit/tables/cfb_comments/insertAll?alt=json\n",
      "INFO:oauth2client.client:Attempting refresh to obtain initial access_token\n",
      "INFO:oauth2client.client:Refreshing access_token\n",
      "INFO:root:Inserting submission dh209\n",
      "INFO:root:Getting comments for submission dh209\n"
     ]
    },
    {
     "name": "stdout",
     "output_type": "stream",
     "text": [
      "c106kha czntix05\n",
      "c109djz yep_yeppers\n",
      "c1069sj sushionagrill\n",
      "c106loa"
     ]
    },
    {
     "name": "stderr",
     "output_type": "stream",
     "text": [
      "INFO:root:Inserting 2 comments\n",
      "INFO:googleapiclient.discovery:URL being requested: POST https://www.googleapis.com/bigquery/v2/projects/stable-balancer-95721/datasets/reddit/tables/cfb_comments/insertAll?alt=json\n",
      "INFO:root:Inserting submission dgxw0\n",
      "INFO:root:Getting comments for submission dgxw0\n",
      "INFO:root:Inserting submission dgvuu\n",
      "INFO:root:Getting comments for submission dgvuu\n"
     ]
    },
    {
     "name": "stdout",
     "output_type": "stream",
     "text": [
      " sushionagrill\n",
      "c1044lf ms3000\n",
      "c10462k RobbStark\n",
      "c104xjz blueboybob\n",
      "c1059b2 RobbStark\n",
      "c1041xz Fergi\n",
      "c104sa5 hesnothere\n",
      "c105pro Arronwy\n",
      "c10556x tandembandit\n",
      "c10567j"
     ]
    },
    {
     "name": "stderr",
     "output_type": "stream",
     "text": [
      "INFO:root:Inserting 13 comments\n",
      "INFO:googleapiclient.discovery:URL being requested: POST https://www.googleapis.com/bigquery/v2/projects/stable-balancer-95721/datasets/reddit/tables/cfb_comments/insertAll?alt=json\n",
      "INFO:root:Inserting submission dgvtr\n",
      "INFO:root:Getting comments for submission dgvtr\n",
      "INFO:root:Inserting submission dgvtg\n",
      "INFO:root:Getting comments for submission dgvtg\n"
     ]
    },
    {
     "name": "stdout",
     "output_type": "stream",
     "text": [
      " wcalvert\n",
      "c105poh Arronwy\n",
      "c10570h tandembandit\n",
      "c104q7n corkill\n",
      "c108vje mjxl47\n",
      "c1047e6"
     ]
    },
    {
     "name": "stderr",
     "output_type": "stream",
     "text": [
      "INFO:root:Inserting 1 comments\n",
      "INFO:googleapiclient.discovery:URL being requested: POST https://www.googleapis.com/bigquery/v2/projects/stable-balancer-95721/datasets/reddit/tables/cfb_comments/insertAll?alt=json\n",
      "INFO:root:Inserting 6 submissions\n",
      "INFO:googleapiclient.discovery:URL being requested: POST https://www.googleapis.com/bigquery/v2/projects/stable-balancer-95721/datasets/reddit/tables/cfb_submissions/insertAll?alt=json\n",
      "INFO:root:Running search for range 09/22/10->09/23/10\n",
      "INFO:root:Inserting submission dhhpx\n",
      "INFO:root:Getting comments for submission dhhpx\n"
     ]
    },
    {
     "name": "stdout",
     "output_type": "stream",
     "text": [
      " pthoresen\n",
      "c108dn6"
     ]
    },
    {
     "name": "stderr",
     "output_type": "stream",
     "text": [
      "INFO:root:Inserting 3 comments\n",
      "INFO:googleapiclient.discovery:URL being requested: POST https://www.googleapis.com/bigquery/v2/projects/stable-balancer-95721/datasets/reddit/tables/cfb_comments/insertAll?alt=json\n",
      "INFO:root:Inserting submission dhhm5\n",
      "INFO:root:Getting comments for submission dhhm5\n"
     ]
    },
    {
     "name": "stdout",
     "output_type": "stream",
     "text": [
      " redbenn\n",
      "c108ovd levimills\n",
      "c10lnbx BuckeyeCIC\n",
      "c108m76 buttlordZ\n",
      "c108hbg audiostatic82\n",
      "c108jyz domcolosi\n",
      "c108t4i mjxl47\n",
      "c108lcm CreepyOkie\n",
      "c108ozu OU405\n",
      "c109oo1 m1ss1ontomars2k4\n",
      "c10aukh wcalvert\n",
      "c108no4 sushionagrill\n",
      "c108pcv OU405\n",
      "c1096vu xsvfan\n",
      "c109rke hesnothere\n",
      "c108swe mjxl47\n",
      "c109fx8 osfn8\n",
      "c108o47 TurkishRambo30\n",
      "c108tcg mjxl47\n",
      "c1096gq AU2010\n",
      "c109foh mjxl47\n",
      "c10l6me AlexisDeTocqueville\n",
      "c108hak sushionagrill\n",
      "c108s94 sushionagrill\n",
      "c108vgu sushionagrill\n",
      "c108wsx sushionagrill\n",
      "c109c1s sushionagrill\n",
      "c108t0p DeStijl\n",
      "c108v7s sushionagrill\n",
      "c108sf6 sushionagrill\n",
      "c108ka5 domcolosi\n",
      "c10bica wilk\n",
      "c108ku9"
     ]
    },
    {
     "name": "stderr",
     "output_type": "stream",
     "text": [
      "INFO:root:Inserting 32 comments\n",
      "INFO:googleapiclient.discovery:URL being requested: POST https://www.googleapis.com/bigquery/v2/projects/stable-balancer-95721/datasets/reddit/tables/cfb_comments/insertAll?alt=json\n",
      "INFO:root:Inserting submission dhfen\n",
      "INFO:root:Getting comments for submission dhfen\n"
     ]
    },
    {
     "name": "stdout",
     "output_type": "stream",
     "text": [
      " sushionagrill\n",
      "c1090tt domcolosi\n",
      "c109qea caboosian\n",
      "c10as7p"
     ]
    },
    {
     "name": "stderr",
     "output_type": "stream",
     "text": [
      "INFO:root:Inserting 1 comments\n",
      "INFO:googleapiclient.discovery:URL being requested: POST https://www.googleapis.com/bigquery/v2/projects/stable-balancer-95721/datasets/reddit/tables/cfb_comments/insertAll?alt=json\n",
      "INFO:root:Inserting 3 submissions\n",
      "INFO:googleapiclient.discovery:URL being requested: POST https://www.googleapis.com/bigquery/v2/projects/stable-balancer-95721/datasets/reddit/tables/cfb_submissions/insertAll?alt=json\n",
      "INFO:root:Running search for range 09/23/10->09/24/10\n",
      "INFO:root:Inserting submission dhzws\n",
      "INFO:root:Getting comments for submission dhzws\n"
     ]
    },
    {
     "name": "stdout",
     "output_type": "stream",
     "text": [
      " wjg10\n",
      "c10c62b CEOofEarthMITTROMNEY\n",
      "c10eube Firehunter\n",
      "c10cr3g LiptonCB\n",
      "c10dd0z ED21\n",
      "c10dlcu LiptonCB\n",
      "c10f32z ED21\n",
      "c10era2 ClemsonPoker\n",
      "c10fjmj LiptonCB\n",
      "c10fm79 ClemsonPoker\n",
      "c10foaz LiptonCB\n",
      "c10g4cy ClemsonPoker\n",
      "c10gmxt ms3000\n",
      "c10jv0h ClemsonPoker\n",
      "c10cykr sirgippy\n",
      "c10czsn Yesh\n",
      "c10jtb3 sushionagrill\n",
      "c10dk2o sushionagrill\n",
      "c10f41b YeaISeddit\n",
      "c10fg00 sushionagrill\n",
      "c10fbzl sushionagrill\n",
      "c10ficw fidler\n",
      "c10j3zq sushionagrill\n",
      "c10j3jf sushionagrill\n",
      "c10stlu fidler\n",
      "c10fk0h YeaISeddit\n",
      "c10flae fidler\n",
      "c10izye sushionagrill\n",
      "c10i6xl sushionagrill\n",
      "c10fwfb YeaISeddit\n",
      "c10dmws Ologhai\n",
      "c10eqxj ClemsonPoker\n",
      "c10f550 YeaISeddit\n",
      "c10bvam ms3000\n",
      "c10ef50 ZAHANMA\n",
      "c10djk8 sushionagrill\n",
      "c10c16u yoraylee\n",
      "c10djxo sushionagrill\n",
      "c10igcb sushionagrill\n",
      "c10c312 tme001\n",
      "c10eeo6 JdoubleE5000\n",
      "c10ipeu sushionagrill\n",
      "c10ld8x JdoubleE5000\n",
      "c10ldiz sushionagrill\n",
      "c10eshj ClemsonPoker\n",
      "c10f3q6 JdoubleE5000\n",
      "c10fe8f ClemsonPoker\n",
      "c10cg6v Arronwy\n",
      "c10den2 troymcdavis\n",
      "c10erup ClemsonPoker\n",
      "c10dp9d Arronwy\n",
      "c10jcfc troymcdavis\n",
      "c10jcu8 Arronwy\n",
      "c10jq5c mellolizard\n",
      "c10jqd5 Arronwy\n",
      "c10jqvb mellolizard\n",
      "c10decz Ologhai\n",
      "c10djf1 sushionagrill\n",
      "c10djm7 Ologhai\n",
      "c10ef9k ZAHANMA\n",
      "c10eem0 Danomatic85\n",
      "c10eeqh ZAHANMA\n",
      "c10em03 Yesh\n",
      "c10eop4 ZAHANMA\n",
      "c10f3p8 Yesh\n",
      "c10eurb Firehunter\n",
      "c10k6lm Xulton\n",
      "c10cejf RobbStark\n",
      "c10jt9q sushionagrill\n",
      "c10djpf sushionagrill\n",
      "c10d71v wjg10\n",
      "c10cfbw ms3000\n",
      "c10cwz6 sirgippy\n",
      "c10d1hs ms3000\n",
      "c10dec3 sirgippy\n",
      "c10c5xm bball0718\n",
      "c10chev diatonic\n",
      "c10ck6j"
     ]
    },
    {
     "name": "stderr",
     "output_type": "stream",
     "text": [
      "INFO:root:Inserting 86 comments\n",
      "INFO:googleapiclient.discovery:URL being requested: POST https://www.googleapis.com/bigquery/v2/projects/stable-balancer-95721/datasets/reddit/tables/cfb_comments/insertAll?alt=json\n",
      "INFO:root:Inserting submission dhve4\n",
      "INFO:root:Getting comments for submission dhve4\n"
     ]
    },
    {
     "name": "stdout",
     "output_type": "stream",
     "text": [
      " bball0718\n",
      "c10d8t0 treanorj\n",
      "c10ckqc diatonic\n",
      "c10coc2 PhilyCheese\n",
      "c10cqvv LiptonCB\n",
      "c10d28n ms3000\n",
      "c10d775 wjg10\n",
      "c10dja8 sushionagrill\n",
      "c10ezz9 wjg10\n",
      "c10ffu7 sushionagrill\n",
      "c10dia9"
     ]
    },
    {
     "name": "stderr",
     "output_type": "stream",
     "text": [
      "INFO:root:Inserting 3 comments\n",
      "INFO:googleapiclient.discovery:URL being requested: POST https://www.googleapis.com/bigquery/v2/projects/stable-balancer-95721/datasets/reddit/tables/cfb_comments/insertAll?alt=json\n",
      "INFO:root:Inserting submission dhv5f\n",
      "INFO:root:Getting comments for submission dhv5f\n"
     ]
    },
    {
     "name": "stdout",
     "output_type": "stream",
     "text": [
      " Ologhai\n",
      "c10eo66 yoraylee\n",
      "c10gc06 Ologhai\n",
      "c10b4rd kagrocery\n",
      "c10bad5 magusg\n",
      "c10bms0 RogerMexico\n",
      "c10drff eggery\n",
      "c10dtvp eggery\n",
      "c10e171 eggery\n",
      "c10bda2 yep_yeppers\n",
      "c10mpl5"
     ]
    },
    {
     "name": "stderr",
     "output_type": "stream",
     "text": [
      "INFO:root:Inserting 8 comments\n",
      "INFO:googleapiclient.discovery:URL being requested: POST https://www.googleapis.com/bigquery/v2/projects/stable-balancer-95721/datasets/reddit/tables/cfb_comments/insertAll?alt=json\n",
      "INFO:root:Inserting submission dhull\n",
      "INFO:root:Getting comments for submission dhull\n"
     ]
    },
    {
     "name": "stdout",
     "output_type": "stream",
     "text": [
      " fuckyou_space\n",
      "c10ax0b Fergi\n",
      "c10k5fd"
     ]
    },
    {
     "name": "stderr",
     "output_type": "stream",
     "text": [
      "INFO:root:Inserting 6 comments\n",
      "INFO:googleapiclient.discovery:URL being requested: POST https://www.googleapis.com/bigquery/v2/projects/stable-balancer-95721/datasets/reddit/tables/cfb_comments/insertAll?alt=json\n",
      "INFO:root:Inserting submission dhsqn\n",
      "INFO:root:Getting comments for submission dhsqn\n"
     ]
    },
    {
     "name": "stdout",
     "output_type": "stream",
     "text": [
      " Xulton\n",
      "c10av57 diatonic\n",
      "c10b8bi OU405\n",
      "c10cn1r demeteloaf\n",
      "c10c3ff Jortsfan\n",
      "c10d9m9"
     ]
    },
    {
     "name": "stderr",
     "output_type": "stream",
     "text": [
      "INFO:root:Inserting 1 comments\n",
      "INFO:googleapiclient.discovery:URL being requested: POST https://www.googleapis.com/bigquery/v2/projects/stable-balancer-95721/datasets/reddit/tables/cfb_comments/insertAll?alt=json\n",
      "INFO:root:Inserting 5 submissions\n",
      "INFO:googleapiclient.discovery:URL being requested: POST https://www.googleapis.com/bigquery/v2/projects/stable-balancer-95721/datasets/reddit/tables/cfb_submissions/insertAll?alt=json\n",
      "INFO:root:Running search for range 09/24/10->09/25/10\n",
      "INFO:root:Inserting submission dikz5\n",
      "INFO:root:Getting comments for submission dikz5\n"
     ]
    },
    {
     "name": "stdout",
     "output_type": "stream",
     "text": [
      " dolderer\n",
      "c10gpe0"
     ]
    },
    {
     "name": "stderr",
     "output_type": "stream",
     "text": [
      "INFO:root:Inserting 9 comments\n",
      "INFO:googleapiclient.discovery:URL being requested: POST https://www.googleapis.com/bigquery/v2/projects/stable-balancer-95721/datasets/reddit/tables/cfb_comments/insertAll?alt=json\n",
      "INFO:root:Inserting submission dihfz\n",
      "INFO:root:Getting comments for submission dihfz\n"
     ]
    },
    {
     "name": "stdout",
     "output_type": "stream",
     "text": [
      " SlurmsMackenzie\n",
      "c10h17d Homestar\n",
      "c10j6gh Jakegarr\n",
      "c10hj50 gbacon\n",
      "c10k6mf gbacon\n",
      "c10h72r Jakegarr\n",
      "c10hwvz steamfolk\n",
      "c10k6q0 gbacon\n",
      "c10gzt3 ED21\n",
      "c10g62x ClemsonPoker\n"
     ]
    },
    {
     "ename": "KeyboardInterrupt",
     "evalue": "",
     "output_type": "error",
     "traceback": [
      "\u001b[1;31m---------------------------------------------------------------------------\u001b[0m",
      "\u001b[1;31mKeyboardInterrupt\u001b[0m                         Traceback (most recent call last)",
      "\u001b[1;32m<ipython-input-5-90f4156ae522>\u001b[0m in \u001b[0;36m<module>\u001b[1;34m()\u001b[0m\n\u001b[0;32m    104\u001b[0m \u001b[1;31m#     time.sleep(int(os.getenv('DELAY', 0)))\u001b[0m\u001b[1;33m\u001b[0m\u001b[1;33m\u001b[0m\u001b[0m\n\u001b[0;32m    105\u001b[0m \u001b[1;32mwhile\u001b[0m \u001b[1;36m1\u001b[0m\u001b[1;33m:\u001b[0m\u001b[1;33m\u001b[0m\u001b[0m\n\u001b[1;32m--> 106\u001b[1;33m     \u001b[0mextract_data\u001b[0m\u001b[1;33m(\u001b[0m\u001b[1;34m'cfb'\u001b[0m\u001b[1;33m)\u001b[0m\u001b[1;33m\u001b[0m\u001b[0m\n\u001b[0m",
      "\u001b[1;32m<ipython-input-5-90f4156ae522>\u001b[0m in \u001b[0;36mextract_data\u001b[1;34m(subreddit, epoch_increment)\u001b[0m\n\u001b[0;32m     86\u001b[0m             \u001b[1;32mif\u001b[0m \u001b[0misinstance\u001b[0m\u001b[1;33m(\u001b[0m\u001b[0mcomment\u001b[0m\u001b[1;33m,\u001b[0m \u001b[0mpraw\u001b[0m\u001b[1;33m.\u001b[0m\u001b[0mobjects\u001b[0m\u001b[1;33m.\u001b[0m\u001b[0mComment\u001b[0m\u001b[1;33m)\u001b[0m \u001b[1;32mand\u001b[0m \u001b[0mcomment\u001b[0m\u001b[1;33m.\u001b[0m\u001b[0mauthor\u001b[0m\u001b[1;33m:\u001b[0m\u001b[1;33m\u001b[0m\u001b[0m\n\u001b[0;32m     87\u001b[0m                 \u001b[1;32mprint\u001b[0m \u001b[0mcomment\u001b[0m\u001b[1;33m.\u001b[0m\u001b[0mid\u001b[0m\u001b[1;33m,\u001b[0m \u001b[0mcomment\u001b[0m\u001b[1;33m.\u001b[0m\u001b[0mauthor\u001b[0m\u001b[1;33m.\u001b[0m\u001b[0mname\u001b[0m\u001b[1;33m\u001b[0m\u001b[0m\n\u001b[1;32m---> 88\u001b[1;33m                 \u001b[0mcomments\u001b[0m\u001b[1;33m.\u001b[0m\u001b[0mappend\u001b[0m\u001b[1;33m(\u001b[0m\u001b[0mget_bq_comment\u001b[0m\u001b[1;33m(\u001b[0m\u001b[0mcomment\u001b[0m\u001b[1;33m)\u001b[0m\u001b[1;33m)\u001b[0m\u001b[1;33m\u001b[0m\u001b[0m\n\u001b[0m\u001b[0;32m     89\u001b[0m \u001b[1;33m\u001b[0m\u001b[0m\n\u001b[0;32m     90\u001b[0m         \u001b[1;32mfor\u001b[0m \u001b[0mbq_comments\u001b[0m \u001b[1;32min\u001b[0m \u001b[0mgrouper\u001b[0m\u001b[1;33m(\u001b[0m\u001b[1;36m450\u001b[0m\u001b[1;33m,\u001b[0m \u001b[0mcomments\u001b[0m\u001b[1;33m)\u001b[0m\u001b[1;33m:\u001b[0m\u001b[1;33m\u001b[0m\u001b[0m\n",
      "\u001b[1;32m<ipython-input-5-90f4156ae522>\u001b[0m in \u001b[0;36mget_bq_comment\u001b[1;34m(comment)\u001b[0m\n\u001b[0;32m     66\u001b[0m             \u001b[1;34m'body'\u001b[0m\u001b[1;33m:\u001b[0m \u001b[0mcomment\u001b[0m\u001b[1;33m.\u001b[0m\u001b[0mbody\u001b[0m\u001b[1;33m,\u001b[0m\u001b[1;33m\u001b[0m\u001b[0m\n\u001b[0;32m     67\u001b[0m             \u001b[1;34m'gilded'\u001b[0m\u001b[1;33m:\u001b[0m \u001b[0mcomment\u001b[0m\u001b[1;33m.\u001b[0m\u001b[0mgilded\u001b[0m\u001b[1;33m,\u001b[0m\u001b[1;33m\u001b[0m\u001b[0m\n\u001b[1;32m---> 68\u001b[1;33m             \u001b[1;34m'subreddit'\u001b[0m\u001b[1;33m:\u001b[0m \u001b[0mcomment\u001b[0m\u001b[1;33m.\u001b[0m\u001b[0msubreddit\u001b[0m\u001b[1;33m.\u001b[0m\u001b[0mname\u001b[0m\u001b[1;33m,\u001b[0m\u001b[1;33m\u001b[0m\u001b[0m\n\u001b[0m\u001b[0;32m     69\u001b[0m             \u001b[1;34m'name'\u001b[0m\u001b[1;33m:\u001b[0m \u001b[0mcomment\u001b[0m\u001b[1;33m.\u001b[0m\u001b[0mname\u001b[0m\u001b[1;33m\u001b[0m\u001b[0m\n\u001b[0;32m     70\u001b[0m            }\n",
      "\u001b[1;32m/opt/conda/lib/python2.7/site-packages/praw/objects.pyc\u001b[0m in \u001b[0;36m__getattr__\u001b[1;34m(self, attr)\u001b[0m\n\u001b[0;32m     79\u001b[0m         \u001b[1;34m\"\"\"Return the value of the `attr` attribute.\"\"\"\u001b[0m\u001b[1;33m\u001b[0m\u001b[0m\n\u001b[0;32m     80\u001b[0m         \u001b[1;32mif\u001b[0m \u001b[0mattr\u001b[0m \u001b[1;33m!=\u001b[0m \u001b[1;34m'__setstate__'\u001b[0m \u001b[1;32mand\u001b[0m \u001b[1;32mnot\u001b[0m \u001b[0mself\u001b[0m\u001b[1;33m.\u001b[0m\u001b[0m_has_fetched\u001b[0m\u001b[1;33m:\u001b[0m\u001b[1;33m\u001b[0m\u001b[0m\n\u001b[1;32m---> 81\u001b[1;33m             \u001b[0mself\u001b[0m\u001b[1;33m.\u001b[0m\u001b[0m_has_fetched\u001b[0m \u001b[1;33m=\u001b[0m \u001b[0mself\u001b[0m\u001b[1;33m.\u001b[0m\u001b[0m_populate\u001b[0m\u001b[1;33m(\u001b[0m\u001b[0mNone\u001b[0m\u001b[1;33m,\u001b[0m \u001b[0mTrue\u001b[0m\u001b[1;33m)\u001b[0m\u001b[1;33m\u001b[0m\u001b[0m\n\u001b[0m\u001b[0;32m     82\u001b[0m             \u001b[1;32mreturn\u001b[0m \u001b[0mgetattr\u001b[0m\u001b[1;33m(\u001b[0m\u001b[0mself\u001b[0m\u001b[1;33m,\u001b[0m \u001b[0mattr\u001b[0m\u001b[1;33m)\u001b[0m\u001b[1;33m\u001b[0m\u001b[0m\n\u001b[0;32m     83\u001b[0m         raise AttributeError('\\'%s\\' has no attribute \\'%s\\'' % (type(self),\n",
      "\u001b[1;32m/opt/conda/lib/python2.7/site-packages/praw/objects.pyc\u001b[0m in \u001b[0;36m_populate\u001b[1;34m(self, json_dict, fetch)\u001b[0m\n\u001b[0;32m    155\u001b[0m     \u001b[1;32mdef\u001b[0m \u001b[0m_populate\u001b[0m\u001b[1;33m(\u001b[0m\u001b[0mself\u001b[0m\u001b[1;33m,\u001b[0m \u001b[0mjson_dict\u001b[0m\u001b[1;33m,\u001b[0m \u001b[0mfetch\u001b[0m\u001b[1;33m)\u001b[0m\u001b[1;33m:\u001b[0m\u001b[1;33m\u001b[0m\u001b[0m\n\u001b[0;32m    156\u001b[0m         \u001b[1;32mif\u001b[0m \u001b[0mjson_dict\u001b[0m \u001b[1;32mis\u001b[0m \u001b[0mNone\u001b[0m\u001b[1;33m:\u001b[0m\u001b[1;33m\u001b[0m\u001b[0m\n\u001b[1;32m--> 157\u001b[1;33m             \u001b[0mjson_dict\u001b[0m \u001b[1;33m=\u001b[0m \u001b[0mself\u001b[0m\u001b[1;33m.\u001b[0m\u001b[0m_get_json_dict\u001b[0m\u001b[1;33m(\u001b[0m\u001b[1;33m)\u001b[0m \u001b[1;32mif\u001b[0m \u001b[0mfetch\u001b[0m \u001b[1;32melse\u001b[0m \u001b[1;33m{\u001b[0m\u001b[1;33m}\u001b[0m\u001b[1;33m\u001b[0m\u001b[0m\n\u001b[0m\u001b[0;32m    158\u001b[0m \u001b[1;33m\u001b[0m\u001b[0m\n\u001b[0;32m    159\u001b[0m         \u001b[1;32mif\u001b[0m \u001b[0mself\u001b[0m\u001b[1;33m.\u001b[0m\u001b[0mreddit_session\u001b[0m\u001b[1;33m.\u001b[0m\u001b[0mconfig\u001b[0m\u001b[1;33m.\u001b[0m\u001b[0mstore_json_result\u001b[0m \u001b[1;32mis\u001b[0m \u001b[0mTrue\u001b[0m\u001b[1;33m:\u001b[0m\u001b[1;33m\u001b[0m\u001b[0m\n",
      "\u001b[1;32m/opt/conda/lib/python2.7/site-packages/praw/objects.pyc\u001b[0m in \u001b[0;36m_get_json_dict\u001b[1;34m(self)\u001b[0m\n\u001b[0;32m    148\u001b[0m             \u001b[0mparams\u001b[0m \u001b[1;33m=\u001b[0m \u001b[1;33m{\u001b[0m\u001b[1;34m'uniq'\u001b[0m\u001b[1;33m:\u001b[0m \u001b[0mself\u001b[0m\u001b[1;33m.\u001b[0m\u001b[0m_uniq\u001b[0m\u001b[1;33m}\u001b[0m \u001b[1;32mif\u001b[0m \u001b[0mself\u001b[0m\u001b[1;33m.\u001b[0m\u001b[0m_uniq\u001b[0m \u001b[1;32melse\u001b[0m \u001b[1;33m{\u001b[0m\u001b[1;33m}\u001b[0m\u001b[1;33m\u001b[0m\u001b[0m\n\u001b[0;32m    149\u001b[0m             response = self.reddit_session.request_json(\n\u001b[1;32m--> 150\u001b[1;33m                 self._info_url, params=params, as_objects=False)\n\u001b[0m\u001b[0;32m    151\u001b[0m         \u001b[1;32mfinally\u001b[0m\u001b[1;33m:\u001b[0m\u001b[1;33m\u001b[0m\u001b[0m\n\u001b[0;32m    152\u001b[0m             \u001b[0mself\u001b[0m\u001b[1;33m.\u001b[0m\u001b[0mreddit_session\u001b[0m\u001b[1;33m.\u001b[0m\u001b[0m_use_oauth\u001b[0m \u001b[1;33m=\u001b[0m \u001b[0mprev_use_oauth\u001b[0m\u001b[1;33m\u001b[0m\u001b[0m\n",
      "\u001b[1;32m/opt/conda/lib/python2.7/site-packages/praw/__init__.pyc\u001b[0m in \u001b[0;36mrequest_json\u001b[1;34m(self, url, params, data, as_objects, retry_on_error, method)\u001b[0m\n",
      "\u001b[1;32m/opt/conda/lib/python2.7/site-packages/praw/decorators.pyc\u001b[0m in \u001b[0;36mraise_api_exceptions\u001b[1;34m(function, *args, **kwargs)\u001b[0m\n\u001b[0;32m    111\u001b[0m     \"\"\"\n\u001b[0;32m    112\u001b[0m     \u001b[1;32mtry\u001b[0m\u001b[1;33m:\u001b[0m\u001b[1;33m\u001b[0m\u001b[0m\n\u001b[1;32m--> 113\u001b[1;33m         \u001b[0mreturn_value\u001b[0m \u001b[1;33m=\u001b[0m \u001b[0mfunction\u001b[0m\u001b[1;33m(\u001b[0m\u001b[1;33m*\u001b[0m\u001b[0margs\u001b[0m\u001b[1;33m,\u001b[0m \u001b[1;33m**\u001b[0m\u001b[0mkwargs\u001b[0m\u001b[1;33m)\u001b[0m\u001b[1;33m\u001b[0m\u001b[0m\n\u001b[0m\u001b[0;32m    114\u001b[0m     \u001b[1;32mexcept\u001b[0m \u001b[0merrors\u001b[0m\u001b[1;33m.\u001b[0m\u001b[0mHTTPException\u001b[0m \u001b[1;32mas\u001b[0m \u001b[0mexc\u001b[0m\u001b[1;33m:\u001b[0m\u001b[1;33m\u001b[0m\u001b[0m\n\u001b[0;32m    115\u001b[0m         \u001b[1;32mif\u001b[0m \u001b[0mexc\u001b[0m\u001b[1;33m.\u001b[0m\u001b[0m_raw\u001b[0m\u001b[1;33m.\u001b[0m\u001b[0mstatus_code\u001b[0m \u001b[1;33m!=\u001b[0m \u001b[1;36m400\u001b[0m\u001b[1;33m:\u001b[0m  \u001b[1;31m# pylint: disable=W0212\u001b[0m\u001b[1;33m\u001b[0m\u001b[0m\n",
      "\u001b[1;32m/opt/conda/lib/python2.7/site-packages/praw/__init__.pyc\u001b[0m in \u001b[0;36mrequest_json\u001b[1;34m(self, url, params, data, as_objects, retry_on_error, method)\u001b[0m\n\u001b[0;32m    610\u001b[0m             \u001b[0murl\u001b[0m \u001b[1;33m+=\u001b[0m \u001b[1;34m'.json'\u001b[0m\u001b[1;33m\u001b[0m\u001b[0m\n\u001b[0;32m    611\u001b[0m         response = self._request(url, params, data, method=method,\n\u001b[1;32m--> 612\u001b[1;33m                                  retry_on_error=retry_on_error)\n\u001b[0m\u001b[0;32m    613\u001b[0m         \u001b[0mhook\u001b[0m \u001b[1;33m=\u001b[0m \u001b[0mself\u001b[0m\u001b[1;33m.\u001b[0m\u001b[0m_json_reddit_objecter\u001b[0m \u001b[1;32mif\u001b[0m \u001b[0mas_objects\u001b[0m \u001b[1;32melse\u001b[0m \u001b[0mNone\u001b[0m\u001b[1;33m\u001b[0m\u001b[0m\n\u001b[0;32m    614\u001b[0m         \u001b[1;31m# Request url just needs to be available for the objecter to use\u001b[0m\u001b[1;33m\u001b[0m\u001b[1;33m\u001b[0m\u001b[0m\n",
      "\u001b[1;32m/opt/conda/lib/python2.7/site-packages/praw/__init__.pyc\u001b[0m in \u001b[0;36m_request\u001b[1;34m(self, url, params, data, files, auth, timeout, raw_response, retry_on_error, method)\u001b[0m\n\u001b[0;32m    442\u001b[0m             \u001b[1;32mtry\u001b[0m\u001b[1;33m:\u001b[0m\u001b[1;33m\u001b[0m\u001b[0m\n\u001b[0;32m    443\u001b[0m                 \u001b[0mself\u001b[0m\u001b[1;33m.\u001b[0m\u001b[0m_use_oauth\u001b[0m \u001b[1;33m=\u001b[0m \u001b[0mself\u001b[0m\u001b[1;33m.\u001b[0m\u001b[0mis_oauth_session\u001b[0m\u001b[1;33m(\u001b[0m\u001b[1;33m)\u001b[0m\u001b[1;33m\u001b[0m\u001b[0m\n\u001b[1;32m--> 444\u001b[1;33m                 \u001b[0mresponse\u001b[0m \u001b[1;33m=\u001b[0m \u001b[0mhandle_redirect\u001b[0m\u001b[1;33m(\u001b[0m\u001b[1;33m)\u001b[0m\u001b[1;33m\u001b[0m\u001b[0m\n\u001b[0m\u001b[0;32m    445\u001b[0m                 \u001b[0m_raise_response_exceptions\u001b[0m\u001b[1;33m(\u001b[0m\u001b[0mresponse\u001b[0m\u001b[1;33m)\u001b[0m\u001b[1;33m\u001b[0m\u001b[0m\n\u001b[0;32m    446\u001b[0m                 \u001b[0mself\u001b[0m\u001b[1;33m.\u001b[0m\u001b[0mhttp\u001b[0m\u001b[1;33m.\u001b[0m\u001b[0mcookies\u001b[0m\u001b[1;33m.\u001b[0m\u001b[0mupdate\u001b[0m\u001b[1;33m(\u001b[0m\u001b[0mresponse\u001b[0m\u001b[1;33m.\u001b[0m\u001b[0mcookies\u001b[0m\u001b[1;33m)\u001b[0m\u001b[1;33m\u001b[0m\u001b[0m\n",
      "\u001b[1;32m/opt/conda/lib/python2.7/site-packages/praw/__init__.pyc\u001b[0m in \u001b[0;36mhandle_redirect\u001b[1;34m()\u001b[0m\n\u001b[0;32m    423\u001b[0m                     \u001b[0mproxies\u001b[0m\u001b[1;33m=\u001b[0m\u001b[0mself\u001b[0m\u001b[1;33m.\u001b[0m\u001b[0mhttp\u001b[0m\u001b[1;33m.\u001b[0m\u001b[0mproxies\u001b[0m\u001b[1;33m,\u001b[0m\u001b[1;33m\u001b[0m\u001b[0m\n\u001b[0;32m    424\u001b[0m                     \u001b[0mtimeout\u001b[0m\u001b[1;33m=\u001b[0m\u001b[0mtimeout\u001b[0m\u001b[1;33m,\u001b[0m\u001b[1;33m\u001b[0m\u001b[0m\n\u001b[1;32m--> 425\u001b[1;33m                     verify=self.http.validate_certs, **kwargs)\n\u001b[0m\u001b[0;32m    426\u001b[0m \u001b[1;33m\u001b[0m\u001b[0m\n\u001b[0;32m    427\u001b[0m                 \u001b[1;32mif\u001b[0m \u001b[0mself\u001b[0m\u001b[1;33m.\u001b[0m\u001b[0mconfig\u001b[0m\u001b[1;33m.\u001b[0m\u001b[0mlog_requests\u001b[0m \u001b[1;33m>=\u001b[0m \u001b[1;36m2\u001b[0m\u001b[1;33m:\u001b[0m\u001b[1;33m\u001b[0m\u001b[0m\n",
      "\u001b[1;32m/opt/conda/lib/python2.7/site-packages/praw/handlers.pyc\u001b[0m in \u001b[0;36mwrapped\u001b[1;34m(cls, _cache_key, _cache_ignore, _cache_timeout, **kwargs)\u001b[0m\n\u001b[0;32m    146\u001b[0m             \u001b[1;31m# assumption only one request to a domain can be made at a\u001b[0m\u001b[1;33m\u001b[0m\u001b[1;33m\u001b[0m\u001b[0m\n\u001b[0;32m    147\u001b[0m             \u001b[1;31m# time), there isn't a better way to handle this.\u001b[0m\u001b[1;33m\u001b[0m\u001b[1;33m\u001b[0m\u001b[0m\n\u001b[1;32m--> 148\u001b[1;33m             \u001b[0mresult\u001b[0m \u001b[1;33m=\u001b[0m \u001b[0mfunction\u001b[0m\u001b[1;33m(\u001b[0m\u001b[0mcls\u001b[0m\u001b[1;33m,\u001b[0m \u001b[1;33m**\u001b[0m\u001b[0mkwargs\u001b[0m\u001b[1;33m)\u001b[0m\u001b[1;33m\u001b[0m\u001b[0m\n\u001b[0m\u001b[0;32m    149\u001b[0m             \u001b[1;31m# The handlers don't call `raise_for_status` so we need to ignore\u001b[0m\u001b[1;33m\u001b[0m\u001b[1;33m\u001b[0m\u001b[0m\n\u001b[0;32m    150\u001b[0m             \u001b[1;31m# status codes that will result in an exception that should not be\u001b[0m\u001b[1;33m\u001b[0m\u001b[1;33m\u001b[0m\u001b[0m\n",
      "\u001b[1;32m/opt/conda/lib/python2.7/site-packages/praw/handlers.pyc\u001b[0m in \u001b[0;36mwrapped\u001b[1;34m(cls, _rate_domain, _rate_delay, **kwargs)\u001b[0m\n\u001b[0;32m     55\u001b[0m                     \u001b[0mtime\u001b[0m\u001b[1;33m.\u001b[0m\u001b[0msleep\u001b[0m\u001b[1;33m(\u001b[0m\u001b[0mdelay\u001b[0m\u001b[1;33m)\u001b[0m\u001b[1;33m\u001b[0m\u001b[0m\n\u001b[0;32m     56\u001b[0m                 \u001b[0mlock_last\u001b[0m\u001b[1;33m[\u001b[0m\u001b[1;36m1\u001b[0m\u001b[1;33m]\u001b[0m \u001b[1;33m=\u001b[0m \u001b[0mnow\u001b[0m\u001b[1;33m\u001b[0m\u001b[0m\n\u001b[1;32m---> 57\u001b[1;33m                 \u001b[1;32mreturn\u001b[0m \u001b[0mfunction\u001b[0m\u001b[1;33m(\u001b[0m\u001b[0mcls\u001b[0m\u001b[1;33m,\u001b[0m \u001b[1;33m**\u001b[0m\u001b[0mkwargs\u001b[0m\u001b[1;33m)\u001b[0m\u001b[1;33m\u001b[0m\u001b[0m\n\u001b[0m\u001b[0;32m     58\u001b[0m         \u001b[1;32mreturn\u001b[0m \u001b[0mwrapped\u001b[0m\u001b[1;33m\u001b[0m\u001b[0m\n\u001b[0;32m     59\u001b[0m \u001b[1;33m\u001b[0m\u001b[0m\n",
      "\u001b[1;32m/opt/conda/lib/python2.7/site-packages/praw/handlers.pyc\u001b[0m in \u001b[0;36mrequest\u001b[1;34m(self, request, proxies, timeout, verify, **_)\u001b[0m\n\u001b[0;32m    101\u001b[0m         \"\"\"\n\u001b[0;32m    102\u001b[0m         return self.http.send(request, proxies=proxies, timeout=timeout,\n\u001b[1;32m--> 103\u001b[1;33m                               allow_redirects=False, verify=verify)\n\u001b[0m\u001b[0;32m    104\u001b[0m RateLimitHandler.request = RateLimitHandler.rate_limit(\n\u001b[0;32m    105\u001b[0m     RateLimitHandler.request)\n",
      "\u001b[1;32m/opt/conda/lib/python2.7/site-packages/requests/sessions.pyc\u001b[0m in \u001b[0;36msend\u001b[1;34m(self, request, **kwargs)\u001b[0m\n\u001b[0;32m    574\u001b[0m \u001b[1;33m\u001b[0m\u001b[0m\n\u001b[0;32m    575\u001b[0m         \u001b[1;31m# Send the request\u001b[0m\u001b[1;33m\u001b[0m\u001b[1;33m\u001b[0m\u001b[0m\n\u001b[1;32m--> 576\u001b[1;33m         \u001b[0mr\u001b[0m \u001b[1;33m=\u001b[0m \u001b[0madapter\u001b[0m\u001b[1;33m.\u001b[0m\u001b[0msend\u001b[0m\u001b[1;33m(\u001b[0m\u001b[0mrequest\u001b[0m\u001b[1;33m,\u001b[0m \u001b[1;33m**\u001b[0m\u001b[0mkwargs\u001b[0m\u001b[1;33m)\u001b[0m\u001b[1;33m\u001b[0m\u001b[0m\n\u001b[0m\u001b[0;32m    577\u001b[0m \u001b[1;33m\u001b[0m\u001b[0m\n\u001b[0;32m    578\u001b[0m         \u001b[1;31m# Total elapsed time of the request (approximately)\u001b[0m\u001b[1;33m\u001b[0m\u001b[1;33m\u001b[0m\u001b[0m\n",
      "\u001b[1;32m/opt/conda/lib/python2.7/site-packages/requests/adapters.pyc\u001b[0m in \u001b[0;36msend\u001b[1;34m(self, request, stream, timeout, verify, cert, proxies)\u001b[0m\n\u001b[0;32m    368\u001b[0m                     \u001b[0mdecode_content\u001b[0m\u001b[1;33m=\u001b[0m\u001b[0mFalse\u001b[0m\u001b[1;33m,\u001b[0m\u001b[1;33m\u001b[0m\u001b[0m\n\u001b[0;32m    369\u001b[0m                     \u001b[0mretries\u001b[0m\u001b[1;33m=\u001b[0m\u001b[0mself\u001b[0m\u001b[1;33m.\u001b[0m\u001b[0mmax_retries\u001b[0m\u001b[1;33m,\u001b[0m\u001b[1;33m\u001b[0m\u001b[0m\n\u001b[1;32m--> 370\u001b[1;33m                     \u001b[0mtimeout\u001b[0m\u001b[1;33m=\u001b[0m\u001b[0mtimeout\u001b[0m\u001b[1;33m\u001b[0m\u001b[0m\n\u001b[0m\u001b[0;32m    371\u001b[0m                 )\n\u001b[0;32m    372\u001b[0m \u001b[1;33m\u001b[0m\u001b[0m\n",
      "\u001b[1;32m/opt/conda/lib/python2.7/site-packages/requests/packages/urllib3/connectionpool.pyc\u001b[0m in \u001b[0;36murlopen\u001b[1;34m(self, method, url, body, headers, retries, redirect, assert_same_host, timeout, pool_timeout, release_conn, **response_kw)\u001b[0m\n\u001b[0;32m    557\u001b[0m             httplib_response = self._make_request(conn, method, url,\n\u001b[0;32m    558\u001b[0m                                                   \u001b[0mtimeout\u001b[0m\u001b[1;33m=\u001b[0m\u001b[0mtimeout_obj\u001b[0m\u001b[1;33m,\u001b[0m\u001b[1;33m\u001b[0m\u001b[0m\n\u001b[1;32m--> 559\u001b[1;33m                                                   body=body, headers=headers)\n\u001b[0m\u001b[0;32m    560\u001b[0m \u001b[1;33m\u001b[0m\u001b[0m\n\u001b[0;32m    561\u001b[0m             \u001b[1;31m# If we're going to release the connection in ``finally:``, then\u001b[0m\u001b[1;33m\u001b[0m\u001b[1;33m\u001b[0m\u001b[0m\n",
      "\u001b[1;32m/opt/conda/lib/python2.7/site-packages/requests/packages/urllib3/connectionpool.pyc\u001b[0m in \u001b[0;36m_make_request\u001b[1;34m(self, conn, method, url, timeout, **httplib_request_kw)\u001b[0m\n\u001b[0;32m    374\u001b[0m         \u001b[1;32mtry\u001b[0m\u001b[1;33m:\u001b[0m\u001b[1;33m\u001b[0m\u001b[0m\n\u001b[0;32m    375\u001b[0m             \u001b[1;32mtry\u001b[0m\u001b[1;33m:\u001b[0m  \u001b[1;31m# Python 2.7, use buffering of HTTP responses\u001b[0m\u001b[1;33m\u001b[0m\u001b[0m\n\u001b[1;32m--> 376\u001b[1;33m                 \u001b[0mhttplib_response\u001b[0m \u001b[1;33m=\u001b[0m \u001b[0mconn\u001b[0m\u001b[1;33m.\u001b[0m\u001b[0mgetresponse\u001b[0m\u001b[1;33m(\u001b[0m\u001b[0mbuffering\u001b[0m\u001b[1;33m=\u001b[0m\u001b[0mTrue\u001b[0m\u001b[1;33m)\u001b[0m\u001b[1;33m\u001b[0m\u001b[0m\n\u001b[0m\u001b[0;32m    377\u001b[0m             \u001b[1;32mexcept\u001b[0m \u001b[0mTypeError\u001b[0m\u001b[1;33m:\u001b[0m  \u001b[1;31m# Python 2.6 and older\u001b[0m\u001b[1;33m\u001b[0m\u001b[0m\n\u001b[0;32m    378\u001b[0m                 \u001b[0mhttplib_response\u001b[0m \u001b[1;33m=\u001b[0m \u001b[0mconn\u001b[0m\u001b[1;33m.\u001b[0m\u001b[0mgetresponse\u001b[0m\u001b[1;33m(\u001b[0m\u001b[1;33m)\u001b[0m\u001b[1;33m\u001b[0m\u001b[0m\n",
      "\u001b[1;32m/opt/conda/lib/python2.7/httplib.pyc\u001b[0m in \u001b[0;36mgetresponse\u001b[1;34m(self, buffering)\u001b[0m\n\u001b[0;32m   1130\u001b[0m \u001b[1;33m\u001b[0m\u001b[0m\n\u001b[0;32m   1131\u001b[0m         \u001b[1;32mtry\u001b[0m\u001b[1;33m:\u001b[0m\u001b[1;33m\u001b[0m\u001b[0m\n\u001b[1;32m-> 1132\u001b[1;33m             \u001b[0mresponse\u001b[0m\u001b[1;33m.\u001b[0m\u001b[0mbegin\u001b[0m\u001b[1;33m(\u001b[0m\u001b[1;33m)\u001b[0m\u001b[1;33m\u001b[0m\u001b[0m\n\u001b[0m\u001b[0;32m   1133\u001b[0m             \u001b[1;32massert\u001b[0m \u001b[0mresponse\u001b[0m\u001b[1;33m.\u001b[0m\u001b[0mwill_close\u001b[0m \u001b[1;33m!=\u001b[0m \u001b[0m_UNKNOWN\u001b[0m\u001b[1;33m\u001b[0m\u001b[0m\n\u001b[0;32m   1134\u001b[0m             \u001b[0mself\u001b[0m\u001b[1;33m.\u001b[0m\u001b[0m__state\u001b[0m \u001b[1;33m=\u001b[0m \u001b[0m_CS_IDLE\u001b[0m\u001b[1;33m\u001b[0m\u001b[0m\n",
      "\u001b[1;32m/opt/conda/lib/python2.7/httplib.pyc\u001b[0m in \u001b[0;36mbegin\u001b[1;34m(self)\u001b[0m\n\u001b[0;32m    451\u001b[0m         \u001b[1;31m# read until we get a non-100 response\u001b[0m\u001b[1;33m\u001b[0m\u001b[1;33m\u001b[0m\u001b[0m\n\u001b[0;32m    452\u001b[0m         \u001b[1;32mwhile\u001b[0m \u001b[0mTrue\u001b[0m\u001b[1;33m:\u001b[0m\u001b[1;33m\u001b[0m\u001b[0m\n\u001b[1;32m--> 453\u001b[1;33m             \u001b[0mversion\u001b[0m\u001b[1;33m,\u001b[0m \u001b[0mstatus\u001b[0m\u001b[1;33m,\u001b[0m \u001b[0mreason\u001b[0m \u001b[1;33m=\u001b[0m \u001b[0mself\u001b[0m\u001b[1;33m.\u001b[0m\u001b[0m_read_status\u001b[0m\u001b[1;33m(\u001b[0m\u001b[1;33m)\u001b[0m\u001b[1;33m\u001b[0m\u001b[0m\n\u001b[0m\u001b[0;32m    454\u001b[0m             \u001b[1;32mif\u001b[0m \u001b[0mstatus\u001b[0m \u001b[1;33m!=\u001b[0m \u001b[0mCONTINUE\u001b[0m\u001b[1;33m:\u001b[0m\u001b[1;33m\u001b[0m\u001b[0m\n\u001b[0;32m    455\u001b[0m                 \u001b[1;32mbreak\u001b[0m\u001b[1;33m\u001b[0m\u001b[0m\n",
      "\u001b[1;32m/opt/conda/lib/python2.7/httplib.pyc\u001b[0m in \u001b[0;36m_read_status\u001b[1;34m(self)\u001b[0m\n\u001b[0;32m    407\u001b[0m     \u001b[1;32mdef\u001b[0m \u001b[0m_read_status\u001b[0m\u001b[1;33m(\u001b[0m\u001b[0mself\u001b[0m\u001b[1;33m)\u001b[0m\u001b[1;33m:\u001b[0m\u001b[1;33m\u001b[0m\u001b[0m\n\u001b[0;32m    408\u001b[0m         \u001b[1;31m# Initialize with Simple-Response defaults\u001b[0m\u001b[1;33m\u001b[0m\u001b[1;33m\u001b[0m\u001b[0m\n\u001b[1;32m--> 409\u001b[1;33m         \u001b[0mline\u001b[0m \u001b[1;33m=\u001b[0m \u001b[0mself\u001b[0m\u001b[1;33m.\u001b[0m\u001b[0mfp\u001b[0m\u001b[1;33m.\u001b[0m\u001b[0mreadline\u001b[0m\u001b[1;33m(\u001b[0m\u001b[0m_MAXLINE\u001b[0m \u001b[1;33m+\u001b[0m \u001b[1;36m1\u001b[0m\u001b[1;33m)\u001b[0m\u001b[1;33m\u001b[0m\u001b[0m\n\u001b[0m\u001b[0;32m    410\u001b[0m         \u001b[1;32mif\u001b[0m \u001b[0mlen\u001b[0m\u001b[1;33m(\u001b[0m\u001b[0mline\u001b[0m\u001b[1;33m)\u001b[0m \u001b[1;33m>\u001b[0m \u001b[0m_MAXLINE\u001b[0m\u001b[1;33m:\u001b[0m\u001b[1;33m\u001b[0m\u001b[0m\n\u001b[0;32m    411\u001b[0m             \u001b[1;32mraise\u001b[0m \u001b[0mLineTooLong\u001b[0m\u001b[1;33m(\u001b[0m\u001b[1;34m\"header line\"\u001b[0m\u001b[1;33m)\u001b[0m\u001b[1;33m\u001b[0m\u001b[0m\n",
      "\u001b[1;32m/opt/conda/lib/python2.7/socket.pyc\u001b[0m in \u001b[0;36mreadline\u001b[1;34m(self, size)\u001b[0m\n\u001b[0;32m    478\u001b[0m             \u001b[1;32mwhile\u001b[0m \u001b[0mTrue\u001b[0m\u001b[1;33m:\u001b[0m\u001b[1;33m\u001b[0m\u001b[0m\n\u001b[0;32m    479\u001b[0m                 \u001b[1;32mtry\u001b[0m\u001b[1;33m:\u001b[0m\u001b[1;33m\u001b[0m\u001b[0m\n\u001b[1;32m--> 480\u001b[1;33m                     \u001b[0mdata\u001b[0m \u001b[1;33m=\u001b[0m \u001b[0mself\u001b[0m\u001b[1;33m.\u001b[0m\u001b[0m_sock\u001b[0m\u001b[1;33m.\u001b[0m\u001b[0mrecv\u001b[0m\u001b[1;33m(\u001b[0m\u001b[0mself\u001b[0m\u001b[1;33m.\u001b[0m\u001b[0m_rbufsize\u001b[0m\u001b[1;33m)\u001b[0m\u001b[1;33m\u001b[0m\u001b[0m\n\u001b[0m\u001b[0;32m    481\u001b[0m                 \u001b[1;32mexcept\u001b[0m \u001b[0merror\u001b[0m\u001b[1;33m,\u001b[0m \u001b[0me\u001b[0m\u001b[1;33m:\u001b[0m\u001b[1;33m\u001b[0m\u001b[0m\n\u001b[0;32m    482\u001b[0m                     \u001b[1;32mif\u001b[0m \u001b[0me\u001b[0m\u001b[1;33m.\u001b[0m\u001b[0margs\u001b[0m\u001b[1;33m[\u001b[0m\u001b[1;36m0\u001b[0m\u001b[1;33m]\u001b[0m \u001b[1;33m==\u001b[0m \u001b[0mEINTR\u001b[0m\u001b[1;33m:\u001b[0m\u001b[1;33m\u001b[0m\u001b[0m\n",
      "\u001b[1;32m/opt/conda/lib/python2.7/ssl.pyc\u001b[0m in \u001b[0;36mrecv\u001b[1;34m(self, buflen, flags)\u001b[0m\n\u001b[0;32m    732\u001b[0m                     \u001b[1;34m\"non-zero flags not allowed in calls to recv() on %s\"\u001b[0m \u001b[1;33m%\u001b[0m\u001b[1;33m\u001b[0m\u001b[0m\n\u001b[0;32m    733\u001b[0m                     self.__class__)\n\u001b[1;32m--> 734\u001b[1;33m             \u001b[1;32mreturn\u001b[0m \u001b[0mself\u001b[0m\u001b[1;33m.\u001b[0m\u001b[0mread\u001b[0m\u001b[1;33m(\u001b[0m\u001b[0mbuflen\u001b[0m\u001b[1;33m)\u001b[0m\u001b[1;33m\u001b[0m\u001b[0m\n\u001b[0m\u001b[0;32m    735\u001b[0m         \u001b[1;32melse\u001b[0m\u001b[1;33m:\u001b[0m\u001b[1;33m\u001b[0m\u001b[0m\n\u001b[0;32m    736\u001b[0m             \u001b[1;32mreturn\u001b[0m \u001b[0mself\u001b[0m\u001b[1;33m.\u001b[0m\u001b[0m_sock\u001b[0m\u001b[1;33m.\u001b[0m\u001b[0mrecv\u001b[0m\u001b[1;33m(\u001b[0m\u001b[0mbuflen\u001b[0m\u001b[1;33m,\u001b[0m \u001b[0mflags\u001b[0m\u001b[1;33m)\u001b[0m\u001b[1;33m\u001b[0m\u001b[0m\n",
      "\u001b[1;32m/opt/conda/lib/python2.7/ssl.pyc\u001b[0m in \u001b[0;36mread\u001b[1;34m(self, len, buffer)\u001b[0m\n\u001b[0;32m    619\u001b[0m                 \u001b[0mv\u001b[0m \u001b[1;33m=\u001b[0m \u001b[0mself\u001b[0m\u001b[1;33m.\u001b[0m\u001b[0m_sslobj\u001b[0m\u001b[1;33m.\u001b[0m\u001b[0mread\u001b[0m\u001b[1;33m(\u001b[0m\u001b[0mlen\u001b[0m\u001b[1;33m,\u001b[0m \u001b[0mbuffer\u001b[0m\u001b[1;33m)\u001b[0m\u001b[1;33m\u001b[0m\u001b[0m\n\u001b[0;32m    620\u001b[0m             \u001b[1;32melse\u001b[0m\u001b[1;33m:\u001b[0m\u001b[1;33m\u001b[0m\u001b[0m\n\u001b[1;32m--> 621\u001b[1;33m                 \u001b[0mv\u001b[0m \u001b[1;33m=\u001b[0m \u001b[0mself\u001b[0m\u001b[1;33m.\u001b[0m\u001b[0m_sslobj\u001b[0m\u001b[1;33m.\u001b[0m\u001b[0mread\u001b[0m\u001b[1;33m(\u001b[0m\u001b[0mlen\u001b[0m \u001b[1;32mor\u001b[0m \u001b[1;36m1024\u001b[0m\u001b[1;33m)\u001b[0m\u001b[1;33m\u001b[0m\u001b[0m\n\u001b[0m\u001b[0;32m    622\u001b[0m             \u001b[1;32mreturn\u001b[0m \u001b[0mv\u001b[0m\u001b[1;33m\u001b[0m\u001b[0m\n\u001b[0;32m    623\u001b[0m         \u001b[1;32mexcept\u001b[0m \u001b[0mSSLError\u001b[0m \u001b[1;32mas\u001b[0m \u001b[0mx\u001b[0m\u001b[1;33m:\u001b[0m\u001b[1;33m\u001b[0m\u001b[0m\n",
      "\u001b[1;31mKeyboardInterrupt\u001b[0m: "
     ]
    }
   ],
   "source": [
    "import rethinkdb as r\n",
    "import delorean\n",
    "from bigquery import get_client\n",
    "from delorean import stops, parse, Delorean, epoch\n",
    "from datetime import timedelta\n",
    "from retrying import retry\n",
    "import itertools\n",
    "import time\n",
    "import datetime\n",
    "import sys\n",
    "import os\n",
    "import praw\n",
    "import logging; logger=logging.getLogger(); logger.setLevel('INFO'); logging.basicConfig()\n",
    "\n",
    "# Global helpers\n",
    "c = r.connect(os.getenv('RETHINKDB_HOST', 'rethinkdb.reddit-analyzer'), os.getenv('RETHINKDB_PORT', 28015))\n",
    "UA = '/r/%s flair analyzer by /u/coffenbacher for https://charlesoffenbacher.com' % sys.argv[1]\n",
    "pr = praw.Reddit(user_agent=UA)\n",
    "db = r.db('reddit')\n",
    "\n",
    "\n",
    "client = get_client(os.getenv('BIGQUERY_PROJECT_ID'), \n",
    "                    service_account=os.getenv('BIGQUERY_SERVICEACCOUNT_ID'),\n",
    "                    private_key_file='../'+os.getenv('BIGQUERY_PRIVATEKEY_FILE'), \n",
    "                    readonly=False)\n",
    "\n",
    "# Helper\n",
    "def grouper(n, iterable, fillvalue=None):\n",
    "    args = [iter(iterable)] * n\n",
    "    return ([e for e in t if e != None] for t in itertools.izip_longest(*args))\n",
    "\n",
    "def get_submissions_between_epochs(start, end, subreddit):\n",
    "    logger.info('Running search for range %s->%s' % (epoch(start).datetime.strftime('%x'), epoch(end).datetime.strftime('%x')))\n",
    "    query = 'timestamp:%d..%d' % (start, end)\n",
    "    return pr.search(query, subreddit=subreddit, sort='new', limit=1000, syntax='cloudsearch')\n",
    "\n",
    "def get_bq_submission(s):\n",
    "    return {\n",
    "            'id': s.id,\n",
    "            'author': s.author.name,\n",
    "            'created_utc': s.created_utc,\n",
    "            'link_flair_text': s.link_flair_text,\n",
    "            'author_flair_text': s.author_flair_text,\n",
    "            'num_comments': s.num_comments,\n",
    "            'score': s.score,\n",
    "            'ups': s.ups,\n",
    "            'downs': s.downs,\n",
    "            'selftext': s.selftext,\n",
    "            'title': s.title,\n",
    "            'gilded': s.gilded,\n",
    "            'subreddit': s.subreddit.name,\n",
    "            'name': s.name\n",
    "        }\n",
    "\n",
    "def get_bq_comment(comment):\n",
    "    return {\n",
    "            'id': comment.id,\n",
    "            'author': comment.author.name,\n",
    "            'created_utc': comment.created_utc,\n",
    "            'link_id': comment.link_id,\n",
    "            'link_flair_text': comment.submission.link_flair_text,\n",
    "            'author_flair_text': comment.author_flair_text,\n",
    "            'score': comment.score,\n",
    "            'ups': comment.ups,\n",
    "            'downs': comment.downs,\n",
    "            'body': comment.body,\n",
    "            'gilded': comment.gilded,\n",
    "            'subreddit': comment.subreddit.name,\n",
    "            'name': comment.name\n",
    "           }\n",
    "\n",
    "def extract_data(subreddit, epoch_increment=86400):\n",
    "    current_progress = db.table('progress').get('current_%s' % subreddit).run(c)\n",
    "    start = current_progress.get('epoch')\n",
    "    end = start + epoch_increment\n",
    "    \n",
    "    submissions = []\n",
    "    for s in get_submissions_between_epochs(start, end, subreddit):\n",
    "        logger.info('Inserting submission %s' % s.id)\n",
    "        submissions.append(get_bq_submission(s))\n",
    "        \n",
    "        logger.info('Getting comments for submission %s' % s.id)\n",
    "        comments = []\n",
    "        s.replace_more_comments(limit=None)\n",
    "        for comment in praw.helpers.flatten_tree(s.comments):\n",
    "            if isinstance(comment, praw.objects.Comment) and comment.author:\n",
    "                print comment.id, comment.author.name\n",
    "                comments.append(get_bq_comment(comment))\n",
    "\n",
    "        for bq_comments in grouper(450, comments):\n",
    "            logger.info('Inserting %s comments' % len(bq_comments))\n",
    "            client.push_rows('reddit', '%s_comments' % subreddit, bq_comments, 'id')\n",
    "    for bq_submissions in grouper(450, submissions):\n",
    "        logger.info('Inserting %s submissions' % len(bq_submissions))\n",
    "        client.push_rows('reddit', '%s_submissions' % subreddit, bq_submissions, 'id')\n",
    "            \n",
    "    db.table('progress').insert({'id': 'current_%s' % subreddit, 'epoch': end}, conflict=\"replace\").run(c)\n",
    "    db.table('progress').insert({'subreddit': subreddit, 'epoch': end, 'dt': r.now()}).run(c)\n",
    "    \n",
    "    \n",
    "# if __name__ == \"__main__\":\n",
    "#     logger.info('Extracting data for subreddit %s' % sys.argv[1])\n",
    "#     extract_data(sys.argv[1])\n",
    "#     time.sleep(int(os.getenv('DELAY', 0)))\n",
    "while 1:\n",
    "    extract_data('cfb')"
   ]
  },
  {
   "cell_type": "code",
   "execution_count": null,
   "metadata": {
    "collapsed": false
   },
   "outputs": [],
   "source": []
  },
  {
   "cell_type": "code",
   "execution_count": null,
   "metadata": {
    "collapsed": false
   },
   "outputs": [],
   "source": []
  }
 ],
 "metadata": {
  "kernelspec": {
   "display_name": "Python 2",
   "language": "python",
   "name": "python2"
  },
  "language_info": {
   "codemirror_mode": {
    "name": "ipython",
    "version": 2
   },
   "file_extension": ".py",
   "mimetype": "text/x-python",
   "name": "python",
   "nbconvert_exporter": "python",
   "pygments_lexer": "ipython2",
   "version": "2.7.10"
  }
 },
 "nbformat": 4,
 "nbformat_minor": 0
}
