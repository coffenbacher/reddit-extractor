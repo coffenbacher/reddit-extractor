{
 "cells": [
  {
   "cell_type": "code",
   "execution_count": 106,
   "metadata": {
    "collapsed": false
   },
   "outputs": [],
   "source": [
    "import rethinkdb as r\n",
    "import delorean\n",
    "from delorean import stops, parse, Delorean, epoch\n",
    "from datetime import timedelta\n",
    "from retrying import retry\n",
    "import time\n",
    "import datetime\n",
    "import sys\n",
    "import os\n",
    "import praw\n",
    "import logging; logger=logging.getLogger(); logger.setLevel('INFO')\n",
    "\n",
    "# Global helpers\n",
    "c = rethinkdb.connect(os.getenv('RETHINKDB_HOST', 'rethinkdb.reddit-analyzer'), os.getenv('RETHINKDB_PORT', 28015))\n",
    "UA = '/r/%s flair analyzer by /u/coffenbacher for https://charlesoffenbacher.com' % sys.argv[1]\n",
    "pr = praw.Reddit(user_agent=UA, store_json_result='True')\n"
   ]
  },
  {
   "cell_type": "code",
   "execution_count": 113,
   "metadata": {
    "collapsed": false
   },
   "outputs": [
    {
     "data": {
      "text/plain": [
       "{u'deleted': 0,\n",
       " u'errors': 0,\n",
       " u'inserted': 0,\n",
       " u'replaced': 1,\n",
       " u'skipped': 0,\n",
       " u'unchanged': 0}"
      ]
     },
     "execution_count": 113,
     "metadata": {},
     "output_type": "execute_result"
    }
   ],
   "source": [
    "# Seed start dates\n",
    "r.db('reddit').table('progress').insert({'id': 'current_cfb', 'epoch':1199181202}, conflict='replace').run(c)\n",
    "\n"
   ]
  },
  {
   "cell_type": "code",
   "execution_count": 21,
   "metadata": {
    "collapsed": false
   },
   "outputs": [
    {
     "name": "stderr",
     "output_type": "stream",
     "text": [
      "INFO:requests.packages.urllib3.connectionpool:Starting new HTTPS connection (1): api.reddit.com\n"
     ]
    }
   ],
   "source": [
    "# Scratchpad\n",
    "\n",
    "query = 'timestamp:1427232122..1437773560'\n",
    "submissions = list(r.search(query, subreddit='cfb', sort='new', limit=10, syntax='cloudsearch'))"
   ]
  },
  {
   "cell_type": "code",
   "execution_count": 112,
   "metadata": {
    "collapsed": false,
    "scrolled": true
   },
   "outputs": [
    {
     "name": "stderr",
     "output_type": "stream",
     "text": [
      "INFO:googleapiclient.discovery:URL being requested: POST https://www.googleapis.com/bigquery/v2/projects/stable-balancer-95721/datasets/reddit/tables?alt=json\n",
      "INFO:oauth2client.client:Attempting refresh to obtain initial access_token\n",
      "INFO:oauth2client.client:Refreshing access_token\n",
      "INFO:googleapiclient.discovery:URL being requested: POST https://www.googleapis.com/bigquery/v2/projects/stable-balancer-95721/datasets/reddit/tables?alt=json\n"
     ]
    }
   ],
   "source": [
    "from bigquery import get_client\n",
    "\n",
    "client = get_client('stable-balancer-95721', \n",
    "                    service_account='account-1@stable-balancer-95721.iam.gserviceaccount.com',\n",
    "                    private_key_file='../redditbigquerykey.p12', \n",
    "                    readonly=False)\n",
    "\n",
    "submission_schema = [\n",
    "    {'mode': 'nullable', 'name': 'downs', 'type': 'integer'},\n",
    "     {'mode': 'nullable', 'name': 'subreddit', 'type': 'string'},\n",
    "     {'mode': 'nullable', 'name': 'selftext', 'type': 'string'},\n",
    "     {'mode': 'nullable', 'name': 'link_flair_text', 'type': 'string'},\n",
    "     {'mode': 'nullable', 'name': 'id', 'type': 'string'},\n",
    "     {'mode': 'nullable', 'name': 'gilded', 'type': 'integer'},\n",
    "     {'mode': 'nullable', 'name': 'name', 'type': 'string'},\n",
    "     {'mode': 'nullable', 'name': 'author', 'type': 'string'},\n",
    "     {'mode': 'nullable', 'name': 'num_comments', 'type': 'integer'},\n",
    "     {'mode': 'nullable', 'name': 'title', 'type': 'string'},\n",
    "     {'mode': 'nullable', 'name': 'created_utc', 'type': 'timestamp'},\n",
    "     {'mode': 'nullable', 'name': 'score', 'type': 'integer'},\n",
    "     {'mode': 'nullable', 'name': 'author_flair_text', 'type': 'string'},\n",
    "     {'mode': 'nullable', 'name': 'ups', 'type': 'integer'}\n",
    "]\n",
    "\n",
    "comment_schema = [\n",
    "    {'mode': 'nullable', 'name': 'body', 'type': 'string'},\n",
    " {'mode': 'nullable', 'name': 'downs', 'type': 'integer'},\n",
    " {'mode': 'nullable', 'name': 'link_id', 'type': 'string'},\n",
    " {'mode': 'nullable', 'name': 'subreddit', 'type': 'string'},\n",
    " {'mode': 'nullable', 'name': 'link_flair_text', 'type': 'string'},\n",
    " {'mode': 'nullable', 'name': 'id', 'type': 'string'},\n",
    " {'mode': 'nullable', 'name': 'gilded', 'type': 'integer'},\n",
    " {'mode': 'nullable', 'name': 'name', 'type': 'string'},\n",
    " {'mode': 'nullable', 'name': 'author', 'type': 'string'},\n",
    " {'mode': 'nullable', 'name': 'author_flair_text', 'type': 'string'},\n",
    " {'mode': 'nullable', 'name': 'created_utc', 'type': 'timestamp'},\n",
    " {'mode': 'nullable', 'name': 'score', 'type': 'integer'},\n",
    " {'mode': 'nullable', 'name': 'ups', 'type': 'integer'}\n",
    "]\n",
    "\n",
    "def create_tables(subreddit):\n",
    "    client.create_table('reddit', '%s_submissions' % subreddit, submission_schema)\n",
    "    client.create_table('reddit', '%s_comments' % subreddit, comment_schema)\n",
    "\n",
    "create_tables('cfb')"
   ]
  },
  {
   "cell_type": "code",
   "execution_count": 63,
   "metadata": {
    "collapsed": false
   },
   "outputs": [
    {
     "data": {
      "text/plain": [
       "[{'mode': 'nullable', 'name': 'downs', 'type': 'integer'},\n",
       " {'mode': 'nullable', 'name': 'subreddit', 'type': 'string'},\n",
       " {'mode': 'nullable', 'name': 'selftext', 'type': 'string'},\n",
       " {'mode': 'nullable', 'name': 'link_flair_text', 'type': 'string'},\n",
       " {'mode': 'nullable', 'name': 'id', 'type': 'string'},\n",
       " {'mode': 'nullable', 'name': 'gilded', 'type': 'integer'},\n",
       " {'mode': 'nullable', 'name': 'name', 'type': 'string'},\n",
       " {'mode': 'nullable', 'name': 'author', 'type': 'string'},\n",
       " {'mode': 'nullable', 'name': 'num_comments', 'type': 'integer'},\n",
       " {'mode': 'nullable', 'name': 'title', 'type': 'string'},\n",
       " {'mode': 'nullable', 'name': 'created_utc', 'type': 'float'},\n",
       " {'mode': 'nullable', 'name': 'score', 'type': 'integer'},\n",
       " {'mode': 'nullable', 'name': 'author_flair_text', 'type': 'string'},\n",
       " {'mode': 'nullable', 'name': 'ups', 'type': 'integer'}]"
      ]
     },
     "execution_count": 63,
     "metadata": {},
     "output_type": "execute_result"
    }
   ],
   "source": [
    "# {\n",
    "#     'id': s.id,\n",
    "#     'author': s.author.name,\n",
    "#     'created_utc': s.created_utc,\n",
    "#     'link_flair_text': s.link_flair_text,\n",
    "#     'author_flair_text': s.author_flair_text,\n",
    "#     'num_comments': s.num_comments,\n",
    "#     'score': s.score,\n",
    "#     'ups': s.ups,\n",
    "#     'downs': s.downs,\n",
    "#     'selftext': s.selftext,\n",
    "#     'title': s.title,\n",
    "#     'gilded': s.gilded,\n",
    "#     'subreddit': s.subreddit.name,\n",
    "#     'name': s.name\n",
    "# }"
   ]
  },
  {
   "cell_type": "code",
   "execution_count": 83,
   "metadata": {
    "collapsed": false
   },
   "outputs": [
    {
     "data": {
      "text/plain": [
       "[{'mode': 'nullable', 'name': 'body', 'type': 'string'},\n",
       " {'mode': 'nullable', 'name': 'downs', 'type': 'integer'},\n",
       " {'mode': 'nullable', 'name': 'link_id', 'type': 'string'},\n",
       " {'mode': 'nullable', 'name': 'subreddit', 'type': 'string'},\n",
       " {'mode': 'nullable', 'name': 'link_flair_text', 'type': 'string'},\n",
       " {'mode': 'nullable', 'name': 'id', 'type': 'string'},\n",
       " {'mode': 'nullable', 'name': 'gilded', 'type': 'integer'},\n",
       " {'mode': 'nullable', 'name': 'name', 'type': 'string'},\n",
       " {'mode': 'nullable', 'name': 'author', 'type': 'string'},\n",
       " {'mode': 'nullable', 'name': 'author_flair_text', 'type': 'string'},\n",
       " {'mode': 'nullable', 'name': 'created_utc', 'type': 'float'},\n",
       " {'mode': 'nullable', 'name': 'score', 'type': 'integer'},\n",
       " {'mode': 'nullable', 'name': 'ups', 'type': 'integer'}]"
      ]
     },
     "execution_count": 83,
     "metadata": {},
     "output_type": "execute_result"
    }
   ],
   "source": [
    "# {\n",
    "#     'id': c.id,\n",
    "#     'author': c.author.name,\n",
    "#     'created_utc': c.created_utc,\n",
    "#     'link_id': c.link_id,\n",
    "#     'link_flair_text': c.submission.link_flair_text,\n",
    "#     'author_flair_text': c.author_flair_text,\n",
    "#     'score': c.score,\n",
    "#     'ups': c.ups,\n",
    "#     'downs': c.downs,\n",
    "#     'body': c.body,\n",
    "#     'gilded': c.gilded,\n",
    "#     'subreddit': c.subreddit.name,\n",
    "#     'name': c.name\n",
    "# }\n"
   ]
  },
  {
   "cell_type": "code",
   "execution_count": 99,
   "metadata": {
    "collapsed": false
   },
   "outputs": [
    {
     "data": {
      "text/plain": [
       "1437743134.0"
      ]
     },
     "execution_count": 99,
     "metadata": {},
     "output_type": "execute_result"
    }
   ],
   "source": []
  }
 ],
 "metadata": {
  "kernelspec": {
   "display_name": "Python 2",
   "language": "python",
   "name": "python2"
  },
  "language_info": {
   "codemirror_mode": {
    "name": "ipython",
    "version": 2
   },
   "file_extension": ".py",
   "mimetype": "text/x-python",
   "name": "python",
   "nbconvert_exporter": "python",
   "pygments_lexer": "ipython2",
   "version": "2.7.10"
  }
 },
 "nbformat": 4,
 "nbformat_minor": 0
}
